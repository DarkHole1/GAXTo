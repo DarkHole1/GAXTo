{
 "cells": [
  {
   "cell_type": "markdown",
   "metadata": {
    "isInteractiveWindowMessageCell": true
   },
   "source": [
    "Connected to Python 3.11.5"
   ]
  },
  {
   "cell_type": "code",
   "execution_count": 1,
   "metadata": {},
   "outputs": [],
   "source": [
    "d1 = { 'a': 6, 'b': 6, 'c': 6, 'd': 7, 'e': 7, 'f': 7, 'g': 8, 'h': 8 }"
   ]
  },
  {
   "cell_type": "code",
   "execution_count": 2,
   "metadata": {},
   "outputs": [],
   "source": [
    "d2 = { 'a': 6, 'b': 6, 'c': 6, 'd': 7, 'e': 7, 'f': 7, 'g': 8, 'h': 6 }"
   ]
  },
  {
   "cell_type": "code",
   "execution_count": 3,
   "metadata": {},
   "outputs": [
    {
     "data": {
      "text/plain": [
       "{'a', 'b', 'c', 'd', 'e', 'f', 'g', 'h'}"
      ]
     },
     "execution_count": 3,
     "metadata": {},
     "output_type": "execute_result"
    }
   ],
   "source": [
    "set(d1.keys())"
   ]
  },
  {
   "cell_type": "code",
   "execution_count": 4,
   "metadata": {},
   "outputs": [
    {
     "data": {
      "text/plain": [
       "{'a', 'b', 'c', 'd', 'e', 'f', 'g', 'h'}"
      ]
     },
     "execution_count": 4,
     "metadata": {},
     "output_type": "execute_result"
    }
   ],
   "source": [
    "set(d1.keys()).intersection(d2.keys())"
   ]
  },
  {
   "cell_type": "code",
   "execution_count": 5,
   "metadata": {},
   "outputs": [],
   "source": [
    "import math"
   ]
  },
  {
   "cell_type": "code",
   "execution_count": 7,
   "metadata": {},
   "outputs": [],
   "source": [
    "def pearson(d1: dict[str, int|float], d2: dict[str, int|float]):\n",
    "    ks = set(d1.keys()).intersection(d2.keys())\n",
    "    d1_ = {k: v for k, v in d1.items() if k in ks}\n",
    "    d2_ = {k: v for k, v in d2.items() if k in ks}\n",
    "    d1a = sum(d1_.values()) / len(ks)\n",
    "    d2a = sum(d2_.values()) / len(ks)\n",
    "    a = sum((d1[k] - d1a) * (d2[k] - d2a) for k in ks)\n",
    "    b = math.sqrt(sum((d1[k] - d1a) ** 2 for k in ks))\n",
    "    c = math.sqrt(sum((d2[k] - d2a) ** 2 for k in ks))\n",
    "    return a / (b * c)"
   ]
  },
  {
   "cell_type": "code",
   "execution_count": 10,
   "metadata": {},
   "outputs": [],
   "source": [
    "import statistics"
   ]
  },
  {
   "cell_type": "code",
   "execution_count": 11,
   "metadata": {},
   "outputs": [],
   "source": [
    "def zScoreNorm(d: dict):\n",
    "    m = statistics.mean(d.values())\n",
    "    q = statistics.stdev(d.values())\n",
    "    return { k: (v - m) / q for k, v in d.items() }"
   ]
  },
  {
   "cell_type": "code",
   "execution_count": 12,
   "metadata": {},
   "outputs": [
    {
     "data": {
      "text/plain": [
       "{'a': -1.0485032066517366,\n",
       " 'b': -1.0485032066517366,\n",
       " 'c': -1.0485032066517366,\n",
       " 'd': 0.14978617237881953,\n",
       " 'e': 0.14978617237881953,\n",
       " 'f': 0.14978617237881953,\n",
       " 'g': 1.3480755514093756,\n",
       " 'h': 1.3480755514093756}"
      ]
     },
     "execution_count": 12,
     "metadata": {},
     "output_type": "execute_result"
    }
   ],
   "source": [
    "zScoreNorm(d1)"
   ]
  },
  {
   "cell_type": "markdown",
   "metadata": {
    "isInteractiveWindowMessageCell": true
   },
   "source": [
    "Restarted Python 3.11.5"
   ]
  },
  {
   "cell_type": "code",
   "execution_count": 9,
   "metadata": {},
   "outputs": [],
   "source": [
    "def pearson(d1: dict, d2: dict):\n",
    "    ks = set(d1.keys()).intersection(d2.keys())\n",
    "    d1_ = {k: v for k, v in d1.items() if k in ks}\n",
    "    d2_ = {k: v for k, v in d2.items() if k in ks}\n",
    "    d1a = sum(d1_.values()) / len(ks)\n",
    "    d2a = sum(d2_.values()) / len(ks)\n",
    "    a = sum((d1[k] - d1a) * (d2[k] - d2a) for k in ks)\n",
    "    b = math.sqrt(sum((d1[k] - d1a) ** 2 for k in ks))\n",
    "    c = math.sqrt(sum((d2[k] - d2a) ** 2 for k in ks))\n",
    "    return a / (b * c)"
   ]
  },
  {
   "cell_type": "code",
   "execution_count": 13,
   "metadata": {},
   "outputs": [
    {
     "data": {
      "text/plain": [
       "0.6039571739702032"
      ]
     },
     "execution_count": 13,
     "metadata": {},
     "output_type": "execute_result"
    }
   ],
   "source": [
    "pearson(d1, d2)"
   ]
  },
  {
   "cell_type": "code",
   "execution_count": 14,
   "metadata": {},
   "outputs": [
    {
     "data": {
      "text/plain": [
       "0.6039571739702033"
      ]
     },
     "execution_count": 14,
     "metadata": {},
     "output_type": "execute_result"
    }
   ],
   "source": [
    "pearson(zScoreNorm(d1), zScoreNorm(d2))"
   ]
  },
  {
   "cell_type": "code",
   "execution_count": 15,
   "metadata": {},
   "outputs": [],
   "source": [
    "d3 = { 'sample_1': 1, 'sample_2': 3, 'sample_3': 6 }"
   ]
  },
  {
   "cell_type": "code",
   "execution_count": 16,
   "metadata": {},
   "outputs": [],
   "source": [
    "d4 = { 'sample_1': 3, 'sample_2': 6, 'sample_3': 9 }"
   ]
  },
  {
   "cell_type": "code",
   "execution_count": 17,
   "metadata": {},
   "outputs": [
    {
     "data": {
      "text/plain": [
       "0.6039571739702033"
      ]
     },
     "execution_count": 17,
     "metadata": {},
     "output_type": "execute_result"
    }
   ],
   "source": [
    "pearson(zScoreNorm(d1), zScoreNorm(d2))"
   ]
  },
  {
   "cell_type": "code",
   "execution_count": 18,
   "metadata": {},
   "outputs": [
    {
     "data": {
      "text/plain": [
       "0.9933992677987826"
      ]
     },
     "execution_count": 18,
     "metadata": {},
     "output_type": "execute_result"
    }
   ],
   "source": [
    "pearson(zScoreNorm(d3), zScoreNorm(d4))"
   ]
  },
  {
   "cell_type": "code",
   "execution_count": 19,
   "metadata": {},
   "outputs": [
    {
     "data": {
      "text/plain": [
       "{'a': -1.0485032066517366,\n",
       " 'b': -1.0485032066517366,\n",
       " 'c': -1.0485032066517366,\n",
       " 'd': 0.14978617237881953,\n",
       " 'e': 0.14978617237881953,\n",
       " 'f': 0.14978617237881953,\n",
       " 'g': 1.3480755514093756,\n",
       " 'h': 1.3480755514093756}"
      ]
     },
     "execution_count": 19,
     "metadata": {},
     "output_type": "execute_result"
    }
   ],
   "source": [
    "zScoreNorm(d1)"
   ]
  },
  {
   "cell_type": "code",
   "execution_count": 20,
   "metadata": {},
   "outputs": [
    {
     "data": {
      "text/plain": [
       "{'sample_1': -0.9271726499455307,\n",
       " 'sample_2': -0.13245323570650444,\n",
       " 'sample_3': 1.059625885652035}"
      ]
     },
     "execution_count": 20,
     "metadata": {},
     "output_type": "execute_result"
    }
   ],
   "source": [
    "zScoreNorm(d3)"
   ]
  },
  {
   "cell_type": "code",
   "execution_count": 21,
   "metadata": {},
   "outputs": [
    {
     "data": {
      "text/plain": [
       "{'sample_1': -1.0, 'sample_2': 0.0, 'sample_3': 1.0}"
      ]
     },
     "execution_count": 21,
     "metadata": {},
     "output_type": "execute_result"
    }
   ],
   "source": [
    "zScoreNorm(d4)"
   ]
  }
 ],
 "metadata": {
  "kernelspec": {
   "display_name": "Python 3",
   "language": "python",
   "name": "python3"
  },
  "language_info": {
   "codemirror_mode": {
    "name": "ipython",
    "version": 3
   },
   "file_extension": ".py",
   "mimetype": "text/x-python",
   "name": "python",
   "nbconvert_exporter": "python",
   "pygments_lexer": "ipython3",
   "version": "3.11.5"
  }
 },
 "nbformat": 4,
 "nbformat_minor": 2
}
